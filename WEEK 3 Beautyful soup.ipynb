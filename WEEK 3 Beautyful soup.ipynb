{
 "cells": [
  {
   "cell_type": "code",
   "execution_count": 1,
   "metadata": {},
   "outputs": [],
   "source": [
    "import urllib.request, urllib.parse, urllib.error"
   ]
  },
  {
   "cell_type": "code",
   "execution_count": 2,
   "metadata": {},
   "outputs": [],
   "source": [
    "from bs4 import BeautifulSoup as bs"
   ]
  },
  {
   "cell_type": "code",
   "execution_count": 9,
   "metadata": {},
   "outputs": [
    {
     "name": "stdout",
     "output_type": "stream",
     "text": [
      "enter:http://zcoer.in\n"
     ]
    }
   ],
   "source": [
    "url=input(\"enter:\")"
   ]
  },
  {
   "cell_type": "code",
   "execution_count": 10,
   "metadata": {},
   "outputs": [
    {
     "name": "stdout",
     "output_type": "stream",
     "text": [
      "https://www.facebook.com/ZealInstitutes/\n",
      "https://www.youtube.com/user/zealedusoc\n",
      "http://172.16.2.1/veriferedu/\n",
      "http://mail.zealeducation.com\n",
      "http://114.143.208.198/AutoLibWebOPAC/Login.aspx\n",
      "http://www.zealeducation.com/career/\n",
      "http://zcoer.in/\n",
      "None\n",
      "http://zcoer.in/\n",
      "#\n",
      "http://zcoer.in/best-engineering-college-in-pune/\n",
      "http://zcoer.in/about-us/\n",
      "http://zcoer.in/founder-directors-message/\n",
      "http://zcoer.in/secretary-message/\n",
      "http://zcoer.in/executive-directors-message/\n",
      "http://zcoer.in/from-the-principals-desk/\n",
      "http://zcoer.in/aicte-sppu-approvals/\n",
      "#\n",
      "#\n",
      "http://enrolonline.mastersofterp.in/?collcode=ZCOER\n",
      "http://zcoer.in/admission-procedure/\n",
      "http://zcoer.in/eligibility-criteria/\n",
      "http://zeal-med.zaplontech.com/wp-content/uploads/2020/05/Zeal-College-of-Engineering-Reserch-Prospectus.pdf\n",
      "http://zeal-med.zaplontech.com/wp-content/uploads/2020/05/MHT-CET_Engg_Tech_Pharmacy_Pharm_D.pdf\n",
      "http://zcoer.in/notifications-state-common-entrance-cell/\n",
      "http://zcoer.in/seats-availability-engineering/\n",
      "http://zcoer.in/fee-structure/\n",
      "http://zcoer.in/wp-content/uploads/2020/07/Fees-Chart-2020-21-Final-ZCOER-converted.pdf\n",
      "http://zcoer.in/admission-enquiry/\n",
      "http://zcoer.in/documents-required-for-admission/\n",
      "http://zcoer.in/college-bus-route-information/\n",
      "#\n",
      "http://zcoer.in/from-hod-desk-computer/\n",
      "http://zcoer.in/from-hod-desk-civil-engineering/\n",
      "http://zcoer.in/from-hods-desk-electrical-engineering/\n",
      "http://zcoer.in/from-hod-desk-etc/\n",
      "http://zcoer.in/from-hod-desk-information-technology/\n",
      "http://zcoer.in/from-hod-desk-me-1st-shift/\n",
      "http://zcoer.in/from-hod-desk-applied-science/\n",
      "http://zcoer.in/mba-admission-open/\n",
      "http://zealcpc.com/zcoer/\n",
      "#\n",
      "http://zcoer.in/our-campus/\n",
      "http://zcoer.in/central-library-2/\n",
      "http://zcoer.in/canteen/\n",
      "http://zcoer.in/computer-center/\n",
      "http://zcoer.in/girls-hostel/\n",
      "http://zcoer.in/sport-facility/\n",
      "http://zcoer.in/premises/\n",
      "http://zcoer.in/transport-facilities/\n",
      "http://zcoer.in/reading-hall/\n",
      "http://zcoer.in/zeal-music-studio/\n",
      "http://zcoer.in/zeal-dance-studio/\n",
      "http://zcoer.in/news-events/\n",
      "#\n",
      "http://zcoer.in/student-section/\n",
      "http://zcoer.in/alumni-section/\n",
      "#\n",
      "http://zcoer.in/iqac/\n",
      "http://zcoer.in/wpcontent/uploads/SSR.pdf\n",
      "http://zcoer.in/contact-us/\n",
      "http://zcoer.in/author/admin/\n",
      "http://zcoer.in/virtual-tour/\n",
      "https://learn.thezealacademy.com/\n",
      "http://zcoer.in/zeal-cad-cam-cae-excellence-center/\n",
      "http://zcoer.in/zeal-cyborg-club/\n",
      "http://zcoer.in/entrepreneur-development-cell/\n",
      "http://zcoer.in/ador-center-of-excellence-in-welding/\n",
      "http://zealeducation.com/music/\n",
      "http://zcoer.in/centre-of-excellence-for-quality-control/\n",
      "http://zcoer.in/automobile-excellence-lab/\n",
      "http://zcoer.in/ibm-centers-of-excellence/\n",
      "http://zcoer.in/nvidia-lab/\n",
      "http://zcoer.in/microsoft-imagine-academy/\n",
      "http://zcoer.in/pcb-design-and-development-laboratory/\n",
      "http://zcoer.in/\n",
      "http://zeal-med.zaplontech.com/wp-content/uploads/2020/01/Sppu-Circular-Ph-D-admission.pdf\n",
      "https://learn.thezealacademy.com/\n",
      "https://learn.thezealacademy.com/\n",
      "http://zcoer.in/wp-content/uploads/2015/09/Atharva-Bhangre-Flex-1-1024x615.png\n",
      "http://zealeducation.com/\n",
      "http://www.zealpolytechnic.com/\n",
      "http://zimca.in/\n",
      "http://www.zibacar.in/\n",
      "http://zcoer.in/\n",
      "http://zealsilvercrest.com/\n",
      "http://zealdems.com/\n",
      "http://dnyangangacollege.com/\n",
      "http://zcoer.in/wp-content/uploads/2016/09/Grievance_Redressal_Committee.pdf\n",
      "http://zcoer.in/wp-content/uploads/2016/09/Anti_Ragging_Committee.pdf\n",
      "http://zcoer.in/wp-content/uploads/2017/09/Office-Order-Internal-complaint-committeeICC.pdf\n",
      "http://www.unipune.ac.in/\n",
      "http://www.dtemaharashtra.gov.in/frmInstituteSummary.aspx?InstituteCode=6298\n",
      "http://erp.zealeducation.com/\n",
      "http://zcoer.in/wpcontent/uploads/ZCOER_Mandatory_Disclosure.pdf\n",
      "http://zcoer.in/introduction/\n",
      "http://zcoer.in/message-by-nss-officier/\n",
      "http://zcoer.in/adopted-village/\n",
      "http://zcoer.in/future-plans/\n",
      "http://zcoer.in/photo-gallery/\n",
      "http://zcoer.in/nss-reports/\n",
      "http://zcoer.in/list-of-student-volunteers/\n",
      "https://scholarships.gov.in/\n",
      "https://drive.google.com/a/zealeducation.com/folderview?id=0B9k7dwe5cvlHb0l5aHI0QlBRVmc&usp=sharing_eid&ts=57a960dd#list\n",
      "https://dcoerpune.almaconnect.com/\n",
      "https://zeal.truecopy.in/verify/submitverify.tc\n",
      "https://zeal.truecopy.in/verify/submitwebsite.tc\n",
      "http://zcoer.in/wp-content/uploads/2019/01/Anti-Ragging-Committee.pdf\n",
      "http://zcoer.in/wp-content/uploads/2019/01/Woman-Grievances-Redressal-Committee.pdf\n",
      "http://zcoer.in/aicte-sppu-approvals/\n",
      "http://zcoer.in/wp-content/uploads/2019/01/Internal-Complaint-Committee.pdf\n",
      "http://zcoer.in/wp-content/uploads/2019/01/Governing-Body.pdf\n",
      "http://zcoer.in/fee-structure/\n",
      "http://zcoer.in/wpcontent/uploads/Mh_GR.pdf\n",
      "https://www.facebook.com/ZealInstitutes/\n",
      "https://twitter.com/zealinstitutes\n",
      "https://www.youtube.com/user/zealedusoc\n",
      "https://instagram.com/zeal_institutes\n",
      "http://zcoer.in/expert-lecture-on-skill-development-2/\n",
      "http://zcoer.in/expert-lecture-on-skill-development-2/\n",
      "http://zcoer.in/meet-with-dr-raghunath-mashelkar/\n",
      "http://zcoer.in/meet-with-dr-raghunath-mashelkar/\n",
      "http://zcoer.in/sindhutai-sapkal-ashram-visit/\n",
      "http://zcoer.in/sindhutai-sapkal-ashram-visit/\n",
      "http://zcoer.in/\n",
      "https://www.facebook.com/zealedusoc/\n",
      "https://www.youtube.com/user/zealedusoc\n",
      "http://zealeducation.com/\n",
      "None\n",
      "None\n",
      "None\n",
      "None\n",
      "http://zcoer.in/\n",
      "#\n",
      "http://zcoer.in/best-engineering-college-in-pune/\n",
      "http://zcoer.in/about-us/\n",
      "http://zcoer.in/founder-directors-message/\n",
      "http://zcoer.in/secretary-message/\n",
      "http://zcoer.in/executive-directors-message/\n",
      "http://zcoer.in/from-the-principals-desk/\n",
      "http://zcoer.in/aicte-sppu-approvals/\n",
      "#\n",
      "#\n",
      "http://enrolonline.mastersofterp.in/?collcode=ZCOER\n",
      "http://zcoer.in/admission-procedure/\n",
      "http://zcoer.in/eligibility-criteria/\n",
      "http://zeal-med.zaplontech.com/wp-content/uploads/2020/05/Zeal-College-of-Engineering-Reserch-Prospectus.pdf\n",
      "http://zeal-med.zaplontech.com/wp-content/uploads/2020/05/MHT-CET_Engg_Tech_Pharmacy_Pharm_D.pdf\n",
      "http://zcoer.in/notifications-state-common-entrance-cell/\n",
      "http://zcoer.in/seats-availability-engineering/\n",
      "http://zcoer.in/fee-structure/\n",
      "http://zcoer.in/wp-content/uploads/2020/07/Fees-Chart-2020-21-Final-ZCOER-converted.pdf\n",
      "http://zcoer.in/admission-enquiry/\n",
      "http://zcoer.in/documents-required-for-admission/\n",
      "http://zcoer.in/college-bus-route-information/\n",
      "#\n",
      "http://zcoer.in/from-hod-desk-computer/\n",
      "http://zcoer.in/from-hod-desk-civil-engineering/\n",
      "http://zcoer.in/from-hods-desk-electrical-engineering/\n",
      "http://zcoer.in/from-hod-desk-etc/\n",
      "http://zcoer.in/from-hod-desk-information-technology/\n",
      "http://zcoer.in/from-hod-desk-me-1st-shift/\n",
      "http://zcoer.in/from-hod-desk-applied-science/\n",
      "http://zcoer.in/mba-admission-open/\n",
      "http://zealcpc.com/zcoer/\n",
      "#\n",
      "http://zcoer.in/our-campus/\n",
      "http://zcoer.in/central-library-2/\n",
      "http://zcoer.in/canteen/\n",
      "http://zcoer.in/computer-center/\n",
      "http://zcoer.in/girls-hostel/\n",
      "http://zcoer.in/sport-facility/\n",
      "http://zcoer.in/premises/\n",
      "http://zcoer.in/transport-facilities/\n",
      "http://zcoer.in/reading-hall/\n",
      "http://zcoer.in/zeal-music-studio/\n",
      "http://zcoer.in/zeal-dance-studio/\n",
      "http://zcoer.in/news-events/\n",
      "#\n",
      "http://zcoer.in/student-section/\n",
      "http://zcoer.in/alumni-section/\n",
      "#\n",
      "http://zcoer.in/iqac/\n",
      "http://zcoer.in/wpcontent/uploads/SSR.pdf\n",
      "http://zcoer.in/contact-us/\n",
      "http://172.16.2.1/veriferedu/\n",
      "http://mail.zealeducation.com\n",
      "http://114.143.208.198/AutoLibWebOPAC/Login.aspx\n",
      "http://www.zealeducation.com/career/\n",
      "https://www.facebook.com/ZealInstitutes/\n",
      "https://www.youtube.com/user/zealedusoc\n",
      "#\n"
     ]
    }
   ],
   "source": [
    "html=urllib.request.urlopen(url).read()\n",
    "soup=bs(html,'html.parser')\n",
    "tags=soup(\"a\")\n",
    "for tag in tags:\n",
    "    print(tag.get(\"href\",None))\n"
   ]
  },
  {
   "cell_type": "code",
   "execution_count": 11,
   "metadata": {},
   "outputs": [
    {
     "data": {
      "text/plain": [
       "71"
      ]
     },
     "execution_count": 11,
     "metadata": {},
     "output_type": "execute_result"
    }
   ],
   "source": [
    "ord(\"G\")"
   ]
  },
  {
   "cell_type": "code",
   "execution_count": 12,
   "metadata": {},
   "outputs": [
    {
     "data": {
      "text/plain": [
       "42"
      ]
     },
     "execution_count": 12,
     "metadata": {},
     "output_type": "execute_result"
    }
   ],
   "source": [
    "ord(\"*\")"
   ]
  },
  {
   "cell_type": "code",
   "execution_count": 13,
   "metadata": {},
   "outputs": [
    {
     "name": "stdout",
     "output_type": "stream",
     "text": [
      "Enter - http://py4e-data.dr-chuck.net/comments_649020.html\n",
      "Count 50\n",
      "Sum 2963\n"
     ]
    }
   ],
   "source": [
    "import urllib.request, urllib.parse, urllib.error\n",
    "from bs4 import BeautifulSoup\n",
    "import ssl\n",
    "'''http://py4e-data.dr-chuck.net/comments_649020.html'''\n",
    "# Ignore SSL certificate errors\n",
    "ctx = ssl.create_default_context()\n",
    "ctx.check_hostname = False\n",
    "ctx.verify_mode = ssl.CERT_NONE\n",
    "\n",
    "url = input('Enter - ')\n",
    "html = urllib.request.urlopen(url, context=ctx).read()\n",
    "'''for line in html:\n",
    "    print(line)'''\n",
    "\n",
    "soup = BeautifulSoup(html,\"html.parser\")\n",
    "\n",
    "numlist = list()\n",
    "runtotal = 0\n",
    "\n",
    "# Retrieve all of the span tags\n",
    "tags = soup('span')\n",
    "'''print(tags)'''\n",
    "for tag in tags:\n",
    "    numlist.append(int(tag.contents[0]))\n",
    "\n",
    "for val in numlist:\n",
    "    runtotal = runtotal + val\n",
    "\n",
    "print ('Count', len(numlist))\n",
    "print ('Sum', runtotal)"
   ]
  },
  {
   "cell_type": "code",
   "execution_count": null,
   "metadata": {},
   "outputs": [],
   "source": []
  },
  {
   "cell_type": "code",
   "execution_count": 47,
   "metadata": {},
   "outputs": [
    {
     "name": "stdout",
     "output_type": "stream",
     "text": [
      "Enter - http://py4e-data.dr-chuck.net/comments_649020.html\n",
      "[<span class=\"comments\">100</span>, <span class=\"comments\">100</span>, <span class=\"comments\">100</span>, <span class=\"comments\">94</span>, <span class=\"comments\">92</span>, <span class=\"comments\">91</span>, <span class=\"comments\">89</span>, <span class=\"comments\">88</span>, <span class=\"comments\">85</span>, <span class=\"comments\">84</span>, <span class=\"comments\">84</span>, <span class=\"comments\">83</span>, <span class=\"comments\">83</span>, <span class=\"comments\">82</span>, <span class=\"comments\">81</span>, <span class=\"comments\">80</span>, <span class=\"comments\">79</span>, <span class=\"comments\">79</span>, <span class=\"comments\">77</span>, <span class=\"comments\">75</span>, <span class=\"comments\">72</span>, <span class=\"comments\">68</span>, <span class=\"comments\">67</span>, <span class=\"comments\">67</span>, <span class=\"comments\">66</span>, <span class=\"comments\">65</span>, <span class=\"comments\">60</span>, <span class=\"comments\">57</span>, <span class=\"comments\">57</span>, <span class=\"comments\">54</span>, <span class=\"comments\">53</span>, <span class=\"comments\">51</span>, <span class=\"comments\">49</span>, <span class=\"comments\">48</span>, <span class=\"comments\">48</span>, <span class=\"comments\">47</span>, <span class=\"comments\">46</span>, <span class=\"comments\">43</span>, <span class=\"comments\">36</span>, <span class=\"comments\">29</span>, <span class=\"comments\">29</span>, <span class=\"comments\">22</span>, <span class=\"comments\">22</span>, <span class=\"comments\">21</span>, <span class=\"comments\">19</span>, <span class=\"comments\">14</span>, <span class=\"comments\">13</span>, <span class=\"comments\">6</span>, <span class=\"comments\">6</span>, <span class=\"comments\">2</span>]\n",
      "[100, 100, 100, 94, 92, 91, 89, 88, 85, 84, 84, 83, 83, 82, 81, 80, 79, 79, 77, 75, 72, 68, 67, 67, 66, 65, 60, 57, 57, 54, 53, 51, 49, 48, 48, 47, 46, 43, 36, 29, 29, 22, 22, 21, 19, 14, 13, 6, 6, 2]\n",
      "2963\n"
     ]
    }
   ],
   "source": [
    "import urllib.request, urllib.parse, urllib.error\n",
    "from bs4 import BeautifulSoup\n",
    "import ssl\n",
    "\n",
    "# Ignore SSL certificate errors\n",
    "ctx = ssl.create_default_context()\n",
    "ctx.check_hostname = False\n",
    "ctx.verify_mode = ssl.CERT_NONE\n",
    "\n",
    "url = input('Enter - ')\n",
    "html = urllib.request.urlopen(url, context=ctx).read()\n",
    "soup = BeautifulSoup(html, \"html.parser\")\n",
    "\n",
    "total_tag=list()\n",
    "total_sum=0\n",
    "# Retrieve all of the anchor tags\n",
    "tags = soup('span')\n",
    "print(tags)\n",
    "for tag in tags:\n",
    "    total_tag.append(int(tag.contents[0]))\n",
    "print(total_tag)\n",
    "\n",
    "for i in total_tag:\n",
    "    total_sum+=i\n",
    "print(total_sum)"
   ]
  },
  {
   "cell_type": "code",
   "execution_count": 59,
   "metadata": {},
   "outputs": [
    {
     "name": "stdout",
     "output_type": "stream",
     "text": [
      "Enter URL : http://py4e-data.dr-chuck.net/known_by_Machaela.html\n",
      "Enter position : 18\n",
      "Enter count : 7\n",
      "Retrieving:  http://py4e-data.dr-chuck.net/known_by_Leilani.html\n",
      "Retrieving:  http://py4e-data.dr-chuck.net/known_by_Cully.html\n",
      "Retrieving:  http://py4e-data.dr-chuck.net/known_by_Daryn.html\n",
      "Retrieving:  http://py4e-data.dr-chuck.net/known_by_Deonaid.html\n",
      "Retrieving:  http://py4e-data.dr-chuck.net/known_by_Hugh.html\n",
      "Retrieving:  http://py4e-data.dr-chuck.net/known_by_Beinn.html\n",
      "Retrieving:  http://py4e-data.dr-chuck.net/known_by_Janna.html\n",
      "Retrieving:  http://py4e-data.dr-chuck.net/known_by_Vuyolwethu.html\n"
     ]
    }
   ],
   "source": [
    "import urllib.request\n",
    "import ssl\n",
    "from bs4 import *\n",
    "'''http://py4e-data.dr-chuck.net/known_by_Machaela.html'''\n",
    "url = input('Enter URL : ')\n",
    "position = input('Enter position : ')\n",
    "count = input('Enter count : ')\n",
    "\n",
    "ctx = ssl.create_default_context()\n",
    "ctx.check_hostname = False\n",
    "ctx.verify_mode = ssl.CERT_NONE\n",
    "\n",
    "data = urllib.request.urlopen(url, context=ctx).read()\n",
    "soup = BeautifulSoup(data)\n",
    "\n",
    "# Retrieve all of the anchor tags\n",
    "tags = soup('a')\n",
    "\n",
    "links = list()\n",
    "\n",
    "for tag in tags:\n",
    "    links.append(tag.get('href', None))\n",
    "\n",
    "print ('Retrieving: ', links[0])\n",
    "print ('Retrieving: ', links[int(position)-1])\n",
    "\n",
    "link = links[int(position)-1]\n",
    "counter = 1\n",
    "while counter < int(count):\n",
    "    uh = urllib.request.urlopen(link, context=ctx)\n",
    "    data = uh.read()\n",
    "    soup = BeautifulSoup(data)\n",
    "\n",
    "    # Retrieve all of the anchor tags\n",
    "    tags = soup('a')\n",
    "\n",
    "    links = list()\n",
    "\n",
    "    for tag in tags:\n",
    "        links.append(tag.get('href', None))\n",
    "    print('Retrieving: ', links[int(position)-1])\n",
    "    link = links[int(position)-1]\n",
    "    counter = counter + 1"
   ]
  }
 ],
 "metadata": {
  "kernelspec": {
   "display_name": "Python 3",
   "language": "python",
   "name": "python3"
  },
  "language_info": {
   "codemirror_mode": {
    "name": "ipython",
    "version": 3
   },
   "file_extension": ".py",
   "mimetype": "text/x-python",
   "name": "python",
   "nbconvert_exporter": "python",
   "pygments_lexer": "ipython3",
   "version": "3.8.3"
  }
 },
 "nbformat": 4,
 "nbformat_minor": 4
}
