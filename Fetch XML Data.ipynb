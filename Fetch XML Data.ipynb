{
 "cells": [
  {
   "cell_type": "code",
   "execution_count": 5,
   "metadata": {},
   "outputs": [],
   "source": [
    "import xml.etree.ElementTree as ET"
   ]
  },
  {
   "cell_type": "code",
   "execution_count": 9,
   "metadata": {},
   "outputs": [
    {
     "name": "stdout",
     "output_type": "stream",
     "text": [
      "Name: Vikas\n",
      "Attr: Yes\n"
     ]
    }
   ],
   "source": [
    "data='''<person>\n",
    "            <name>Vikas</name>\n",
    "            <phone>7709442919</phone>\n",
    "            <email hide=\"Yes\" />\n",
    "            </person>'''\n",
    "tree=ET.fromstring(data)\n",
    "print(\"Name:\", tree.find(\"name\").text)\n",
    "print(\"Attr:\", tree.find(\"email\").get(\"hide\"))"
   ]
  },
  {
   "cell_type": "code",
   "execution_count": 45,
   "metadata": {},
   "outputs": [
    {
     "name": "stdout",
     "output_type": "stream",
     "text": [
      "Enter - http://py4e-data.dr-chuck.net/comments_649022.xml\n",
      "2327\n"
     ]
    }
   ],
   "source": [
    "import urllib.request, urllib.parse, urllib.error\n",
    "from bs4 import BeautifulSoup\n",
    "import ssl\n",
    "import xml.etree.ElementTree as ET\n",
    "'''http://py4e-data.dr-chuck.net/comments_649022.xml'''\n",
    "# Ignore SSL certificate errors\n",
    "ctx = ssl.create_default_context()\n",
    "ctx.check_hostname = False\n",
    "ctx.verify_mode = ssl.CERT_NONE\n",
    "\n",
    "url = input('Enter - ')\n",
    "data = urllib.request.urlopen(url,context=ctx).read()\n",
    "\n",
    "tree=ET.fromstring(data)\n",
    "lst=tree.findall('comments/comment')\n",
    "\n",
    "tot=0\n",
    "for count in lst:\n",
    "    count_comments=int(count.find(\"count\").text)\n",
    "    #print(\"count: \",count.find(\"count\").text)\n",
    "    tot+=count_comments\n",
    "print(tot)\n",
    "    "
   ]
  },
  {
   "cell_type": "code",
   "execution_count": null,
   "metadata": {},
   "outputs": [],
   "source": []
  },
  {
   "cell_type": "code",
   "execution_count": null,
   "metadata": {},
   "outputs": [],
   "source": []
  }
 ],
 "metadata": {
  "kernelspec": {
   "display_name": "Python 3",
   "language": "python",
   "name": "python3"
  },
  "language_info": {
   "codemirror_mode": {
    "name": "ipython",
    "version": 3
   },
   "file_extension": ".py",
   "mimetype": "text/x-python",
   "name": "python",
   "nbconvert_exporter": "python",
   "pygments_lexer": "ipython3",
   "version": "3.8.3"
  }
 },
 "nbformat": 4,
 "nbformat_minor": 4
}
